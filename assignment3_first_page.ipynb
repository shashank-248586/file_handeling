{
 "cells": [
  {
   "cell_type": "code",
   "execution_count": 2,
   "metadata": {
    "metadata": {}
   },
   "outputs": [],
   "source": [
    "#01\n",
    "#Code for read the contents in a file\n",
    "file=input(\"Enter file directory\")\n",
    "f=open(file,\"r\")\n",
    "for i in f:\n",
    "    print(i)\n",
    "f.close()"
   ]
  },
  {
   "cell_type": "code",
   "execution_count": 16,
   "metadata": {
    "metadata": {}
   },
   "outputs": [],
   "source": [
    "#02\n",
    "#Code for write to a file in python\n",
    "content=\"Today is sunday!\"\n",
    "f=open(\"test.txt\",\"w\")\n",
    "f.write(content)\n",
    "f.close()"
   ]
  },
  {
   "cell_type": "code",
   "execution_count": 19,
   "metadata": {
    "metadata": {}
   },
   "outputs": [],
   "source": [
    "#03\n",
    "#Code for append to file in pyhon \n",
    "text=\"No this is not a dog !\"\n",
    "f=open(\"test.txt\",\"a\")\n",
    "f.write(\"\\n\"+text)\n",
    "f.close()"
   ]
  },
  {
   "cell_type": "code",
   "execution_count": 4,
   "metadata": {
    "metadata": {}
   },
   "outputs": [],
   "source": [
    "#04\n",
    "#Code to read a binary file in python \n",
    "#file=input(\"Enter the binary file location\")\n",
    "#with open(file,\"rb\") as f:\n",
    "#    f.read()"
   ]
  },
  {
   "cell_type": "code",
   "execution_count": null,
   "metadata": {},
   "outputs": [],
   "source": [
    "#05\n",
    "#if we don't use with keyword with open then we must requrement to close the file which is oppened\n",
    "#But if we use with keyword then pythod autometically closed the opened file\n"
   ]
  },
  {
   "cell_type": "code",
   "execution_count": null,
   "metadata": {},
   "outputs": [],
   "source": [
    "#06\n",
    "#buffering is basicallyA technique that regulates how data is read from and written to files is called file buffering.\n",
    "# By default, Python reads and writes data from and to files using buffered I/O, which reads and writes data in blocks or chunks rather than individually for each byte."
   ]
  },
  {
   "cell_type": "code",
   "execution_count": null,
   "metadata": {},
   "outputs": [],
   "source": [
    "#07\n",
    "#steps for implimenting buffer file\n",
    "#We open the file in read mode ('r') using the open() function. Then, we use the file.\n",
    "# read() method without specifying a buffer size, which reads the entire file into memory as a single string.\n",
    "# The file's contents are stored in the file_contents variable, and the function returns it."
   ]
  },
  {
   "cell_type": "code",
   "execution_count": null,
   "metadata": {},
   "outputs": [],
   "source": [
    "#08\n",
    "#python function for reading all content by buffering\n",
    "def read_file_into_buffer(file_path):\n",
    "   \n",
    "   with open(file_path, 'r') as file:\n",
    "      \n",
    "      file_contents = file.read()\n",
    "      \n",
    "   return file_contents"
   ]
  },
  {
   "cell_type": "code",
   "execution_count": null,
   "metadata": {},
   "outputs": [],
   "source": [
    "#09\n",
    "#due to buffer reading the all contentes read in a form of chunks.\n",
    "#Not at all all content are read \n",
    "#And due to this the efficiency of read can increase\n"
   ]
  },
  {
   "cell_type": "code",
   "execution_count": 1,
   "metadata": {},
   "outputs": [],
   "source": [
    "#10\n",
    "#Example of fuffer writing\n",
    "import io\n",
    "def snippet(file,text):\n",
    "    with open(file,\"wb\") as f:\n",
    "        a=io.BufferedWriter(f)\n",
    "        a.write(text)\n",
    "        a.flush()\n"
   ]
  },
  {
   "cell_type": "code",
   "execution_count": null,
   "metadata": {},
   "outputs": [],
   "source": [
    "#11\n",
    "#close() is the main thing that do after opening any file\n",
    "#"
   ]
  },
  {
   "cell_type": "code",
   "execution_count": null,
   "metadata": {},
   "outputs": [],
   "source": [
    "#12\n"
   ]
  },
  {
   "cell_type": "code",
   "execution_count": 2,
   "metadata": {},
   "outputs": [],
   "source": [
    "#13\n",
    "#seek() is used to make croser to a given position\n",
    "#example of seek() \n",
    "def change_corser(file,value):\n",
    "    with open(file ,\"r\") as f:\n",
    "        f.seek(value)\n"
   ]
  },
  {
   "cell_type": "code",
   "execution_count": 1,
   "metadata": {},
   "outputs": [],
   "source": [
    "#14\n",
    "#return file descritper\n",
    "def descripter(file):\n",
    "    with open(file,\"r\") as f:\n",
    "        return f.fileno()"
   ]
  },
  {
   "cell_type": "code",
   "execution_count": 2,
   "metadata": {},
   "outputs": [],
   "source": [
    "#15\n",
    "#return current position of file\n",
    "def position(file):\n",
    "    with open(file) as f:\n",
    "        return f.tell()"
   ]
  },
  {
   "cell_type": "code",
   "execution_count": 3,
   "metadata": {},
   "outputs": [],
   "source": [
    "#16\n",
    "#logs a message to a file\n",
    "import logging\n",
    "logging.basicConfig(level=logging.DEBUG,filename='simple.txt',format='%(asctime)s-%(levelname)s-%(message)s')\n",
    "logging.info(\"This is a simple message\")\n"
   ]
  },
  {
   "cell_type": "code",
   "execution_count": 4,
   "metadata": {},
   "outputs": [],
   "source": [
    "#17\n",
    "#Python logging is a module to track events that occure while your programme is runnig\n",
    "#You can use logging method to record informaton about errors,warnings and other events\n"
   ]
  },
  {
   "cell_type": "code",
   "execution_count": 7,
   "metadata": {},
   "outputs": [],
   "source": [
    "#18\n",
    "#uses of debug\n",
    "for i in range(10):\n",
    "    logging.debug(\"The value of i is\",i)\n"
   ]
  },
  {
   "cell_type": "code",
   "execution_count": null,
   "metadata": {},
   "outputs": [],
   "source": [
    "#19\n"
   ]
  },
  {
   "cell_type": "code",
   "execution_count": 13,
   "metadata": {},
   "outputs": [
    {
     "data": {
      "text/plain": [
       "24"
      ]
     },
     "execution_count": 13,
     "metadata": {},
     "output_type": "execute_result"
    }
   ],
   "source": [
    "#20\n",
    "#debugg trace a rucursive function\n",
    "#Let's calculate factorial of a integer\n",
    "def factorial(n):\n",
    "    if(n==1): return 1\n",
    "    logging.debug(\"The value of n is \",n)\n",
    "    return n*factorial(n-1)\n",
    "factorial(4)"
   ]
  },
  {
   "cell_type": "code",
   "execution_count": 14,
   "metadata": {},
   "outputs": [
    {
     "name": "stdout",
     "output_type": "stream",
     "text": [
      "This is a  division by zero\n"
     ]
    }
   ],
   "source": [
    "#21\n",
    "#Zerodivision error\n",
    "try:\n",
    "    1/0\n",
    "except ZeroDivisionError as e:\n",
    "    print(\"This is a \",e)"
   ]
  },
  {
   "cell_type": "code",
   "execution_count": null,
   "metadata": {},
   "outputs": [],
   "source": [
    "#22\n",
    "#else bloct reject the error code and further move the code line\n",
    "#Because if there is a error then whole code not run "
   ]
  },
  {
   "cell_type": "code",
   "execution_count": 15,
   "metadata": {},
   "outputs": [
    {
     "name": "stdout",
     "output_type": "stream",
     "text": [
      "this is a  [Errno 2] No such file or directory: 'file.txt'\n"
     ]
    }
   ],
   "source": [
    "#23\n",
    "#Example of filenotfound error\n",
    "try:\n",
    "    with open(\"file.txt\",'r') as f:\n",
    "        f.read()\n",
    "except FileNotFoundError as e:\n",
    "    print(\"this is a \",e)\n",
    "else:\n",
    "    print(\"File is not found\")\n",
    "    \n"
   ]
  },
  {
   "cell_type": "code",
   "execution_count": null,
   "metadata": {},
   "outputs": [],
   "source": [
    "#24\n",
    "#It defines a blok of code to run when the try except else blok is filnal.\n",
    "#The finally block will be executed no matter if the try block rises an error or not.\n",
    "##This can be useful to close objects and cleanup resources\n"
   ]
  },
  {
   "cell_type": "code",
   "execution_count": 16,
   "metadata": {},
   "outputs": [
    {
     "name": "stdout",
     "output_type": "stream",
     "text": [
      "Thsis is a  division by zero\n",
      "THis block run compelsory\n"
     ]
    }
   ],
   "source": [
    "#25\n",
    "#example of try-except-finally bloc\n",
    "try:\n",
    "    2/0\n",
    "except ZeroDivisionError as e:\n",
    "    print(\"Thsis is a \",e)\n",
    "finally:\n",
    "    print(\"THis block run compelsory\")"
   ]
  },
  {
   "cell_type": "code",
   "execution_count": 17,
   "metadata": {},
   "outputs": [],
   "source": [
    "#26\n",
    "#When you use multiple except clauses, Python will execute the code in the first clause\n",
    "#it encounters for which that exception is true \n",
    "#And then execute the code after the rise try construction.\n"
   ]
  },
  {
   "cell_type": "code",
   "execution_count": 18,
   "metadata": {},
   "outputs": [],
   "source": [
    "#27\n",
    "#Custem exceptions are helpfull in many situations.\n",
    "#They allows you to define your own errror condition and them in a more specific and meaning full way.\n"
   ]
  },
  {
   "cell_type": "code",
   "execution_count": 27,
   "metadata": {},
   "outputs": [],
   "source": [
    "#28\n",
    "#custom exception class if negative number is entured\n",
    "class negative_entered(Exception):\n",
    "    pass\n",
    "try:\n",
    "    a=int(input(\"Enter a number\"))\n",
    "    if(a<0):\n",
    "        raise negative_entered\n",
    "except negative_entered:\n",
    "    print(\"Negative nimber is entered\")"
   ]
  },
  {
   "cell_type": "code",
   "execution_count": 4,
   "metadata": {},
   "outputs": [],
   "source": [
    "#29\n",
    "#rise custom exception\n",
    "#value lessthan 100\n",
    "class lessthan_100(Exception):\n",
    "    def __init__(self,num):\n",
    "        self.num=num\n",
    "        self.message=f\"This value {self.num} is lessthan 100\"\n",
    "        super().__init__(self.message)\n",
    "\n",
    "a=13\n",
    "if a<100:\n",
    "    raise lessthan_100(a)"
   ]
  },
  {
   "cell_type": "code",
   "execution_count": 3,
   "metadata": {},
   "outputs": [],
   "source": [
    "#30\n",
    "#raise when negative number is entered\n",
    "class negative_entered(Exception):\n",
    "    def __init__(self,num):\n",
    "        self.num=num\n",
    "        self.message=f\"{self.num} is negative\"\n",
    "        super().__init__(self.message)\n",
    "\n",
    "a=-12\n",
    "if(a<0):\n",
    "    raise negative_entered(a)"
   ]
  },
  {
   "cell_type": "code",
   "execution_count": 32,
   "metadata": {},
   "outputs": [],
   "source": [
    "#31\n",
    "#the role of try blok is if error is occured then in this blok that is happen\n",
    "#the role of except blok is protect the error because if error is ocurd then code is not progress fully\n",
    "#the role of else block is either except bloc or else block progress at  CIRTAIN condition \n",
    "#the role of finally block  this block progress definightly\n",
    "\n"
   ]
  },
  {
   "cell_type": "code",
   "execution_count": 33,
   "metadata": {},
   "outputs": [],
   "source": [
    "#32\n",
    "#coustom exception can give error as user readable and more understandable\n",
    "#it also improve maintainability\n"
   ]
  },
  {
   "cell_type": "code",
   "execution_count": 34,
   "metadata": {},
   "outputs": [],
   "source": [
    "#33\n",
    "#Multithreading mean - something simply threading\n",
    "#when a programme creates multiple thread with exicution cycling among them so one longer time task does not block all the countr \n",
    "#This workrs well for task that can be broken down into smaller sub packets \n",
    "#which can then each be given to a thread"
   ]
  },
  {
   "cell_type": "code",
   "execution_count": 50,
   "metadata": {},
   "outputs": [],
   "source": [
    "#34\n",
    "#Creating a thread in python\n",
    "import threading\n",
    "class thread(threading.Thread):\n",
    "    def __init__(self,thread_name,thread_ID):\n",
    "        threading.Thread.__init__(self)\n",
    "        self.thread_name= thread_name\n",
    "        self.thread_ID= thread_ID\n",
    "        def run (self):\n",
    "            print(self.thread_name)\n",
    "t1=thread(\"rty\", 23)\n",
    "t1.start()\n"
   ]
  },
  {
   "cell_type": "code",
   "execution_count": 1,
   "metadata": {},
   "outputs": [],
   "source": [
    "#35\n",
    "#GIL stands for glowal inter preter lock\n",
    "#its meanning is only one thread is use at a time\n"
   ]
  },
  {
   "cell_type": "code",
   "execution_count": 2,
   "metadata": {},
   "outputs": [
    {
     "name": "stdout",
     "output_type": "stream",
     "text": [
      "Do some thing \n",
      "Do some thing \n",
      "After sleep\n",
      "After sleep\n"
     ]
    },
    {
     "data": {
      "text/plain": [
       "2.01"
      ]
     },
     "execution_count": 2,
     "metadata": {},
     "output_type": "execute_result"
    }
   ],
   "source": [
    "#Example of multithreading \n",
    "import threading\n",
    "import time\n",
    "start= time.perf_counter()\n",
    "def func():\n",
    "    print(\"Do some thing \")\n",
    "    time.sleep(2)\n",
    "    print(\"After sleep\")\n",
    "\n",
    "t1=threading.Thread(target=func)\n",
    "t2=threading.Thread(target=func)\n",
    "\n",
    "\n",
    "t1.start()\n",
    "t2.start()\n",
    "\n",
    "\n",
    "t1.join()\n",
    "t2.join()\n",
    "\n",
    "end=time.perf_counter()\n",
    "\n",
    "round(end-start,2)\n",
    "\n"
   ]
  },
  {
   "cell_type": "code",
   "execution_count": 3,
   "metadata": {},
   "outputs": [],
   "source": [
    "#37\n",
    "#when we use multithreading which is cuncurent in order .\n",
    "#it may possible that main function executing before it process.\n",
    "#so join controle that and allow to execute main after thread."
   ]
  },
  {
   "cell_type": "code",
   "execution_count": 4,
   "metadata": {},
   "outputs": [],
   "source": [
    "#38\n",
    "#multithreading vastly used in I/O test,reading writing file ,data base query,network communication ."
   ]
  },
  {
   "cell_type": "code",
   "execution_count": 5,
   "metadata": {},
   "outputs": [],
   "source": [
    "#39\n",
    "#Multiprocessing is allow to execute code in core to parallaly."
   ]
  },
  {
   "cell_type": "code",
   "execution_count": 6,
   "metadata": {},
   "outputs": [],
   "source": [
    "#40\n",
    "#In multithreading code are execute in cuncurently in ordre in core.\n",
    "#But multiprocessing is allow to execute code in parallaly in core."
   ]
  },
  {
   "cell_type": "code",
   "execution_count": 12,
   "metadata": {},
   "outputs": [
    {
     "data": {
      "text/plain": [
       "0.17"
      ]
     },
     "execution_count": 12,
     "metadata": {},
     "output_type": "execute_result"
    }
   ],
   "source": [
    "#41\n",
    "#Example of multiprocessing\n",
    "import multiprocessing\n",
    "import multiprocessing.process\n",
    "import time\n",
    "start= time.perf_counter()\n",
    "def func():\n",
    "    print(\"Do some thing \")\n",
    "    time.sleep(2)\n",
    "    print(\"After sleep\")\n",
    "\n",
    "t1=multiprocessing.Process(target=func)\n",
    "t2=multiprocessing.Process(target=func)\n",
    "\n",
    "\n",
    "t1.start()\n",
    "t2.start()\n",
    "\n",
    "\n",
    "t1.join()\n",
    "t2.join()\n",
    "\n",
    "end=time.perf_counter()\n",
    "\n",
    "round(end-start,2)"
   ]
  },
  {
   "cell_type": "code",
   "execution_count": 13,
   "metadata": {},
   "outputs": [],
   "source": [
    "#42\n",
    "#Pool similar to the multiprocessing \n",
    "#It helps insteed of making thread we use pool"
   ]
  },
  {
   "cell_type": "code",
   "execution_count": 14,
   "metadata": {},
   "outputs": [],
   "source": [
    "#43\n",
    "#Multiprocessing is a mechanism that allow process to communicate with each other and synchronize there action.\n",
    "#the communication between these process can be see as a method of co-operation between them.\n",
    "#Processer can be communicate with each other through both shared memory."
   ]
  },
  {
   "cell_type": "code",
   "execution_count": null,
   "metadata": {},
   "outputs": [],
   "source": []
  }
 ],
 "metadata": {
  "kernelspec": {
   "display_name": "Python 3 (ipykernel)",
   "language": "python",
   "name": "python3"
  },
  "language_info": {
   "codemirror_mode": {
    "name": "ipython",
    "version": 3
   },
   "file_extension": ".py",
   "mimetype": "text/x-python",
   "name": "python",
   "nbconvert_exporter": "python",
   "pygments_lexer": "ipython3",
   "version": "3.10.8"
  }
 },
 "nbformat": 4,
 "nbformat_minor": 4
}
